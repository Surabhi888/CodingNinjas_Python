{
 "cells": [
  {
   "cell_type": "code",
   "execution_count": null,
   "metadata": {},
   "outputs": [],
   "source": [
    "n=int(input())\n",
    "print(1)\n",
    "i=1\n",
    "while(i<n):\n",
    "    j=0\n",
    "    while(j<i+1):\n",
    "        if(j==0 or j==i):\n",
    "            print(i,end=\"\")\n",
    "        else:\n",
    "            print(0,end=\"\")\n",
    "        j=j+1\n",
    "    i=i+1\n",
    "    print()"
   ]
  }
 ],
 "metadata": {
  "language_info": {
   "name": "python"
  },
  "orig_nbformat": 4
 },
 "nbformat": 4,
 "nbformat_minor": 2
}
