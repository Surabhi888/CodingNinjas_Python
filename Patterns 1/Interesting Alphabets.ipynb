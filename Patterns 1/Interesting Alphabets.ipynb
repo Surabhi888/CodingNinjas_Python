{
 "cells": [
  {
   "cell_type": "code",
   "execution_count": null,
   "metadata": {},
   "outputs": [],
   "source": [
    "n=int(input())\n",
    "i=1\n",
    "while i<=n:\n",
    "    j=1\n",
    "    start_char=chr(ord('A')+n-i+1)\n",
    "    while j<=i:\n",
    "        charP=chr(ord(start_char)+j-1-1)\n",
    "        print(charP,end='')\n",
    "        j=j+1\n",
    "    print()\n",
    "    i=i+1"
   ]
  }
 ],
 "metadata": {
  "language_info": {
   "name": "python"
  },
  "orig_nbformat": 4
 },
 "nbformat": 4,
 "nbformat_minor": 2
}
