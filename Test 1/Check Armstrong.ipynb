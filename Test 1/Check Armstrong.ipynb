{
 "cells": [
  {
   "cell_type": "code",
   "execution_count": null,
   "metadata": {},
   "outputs": [],
   "source": [
    "n=int(input())\n",
    "sum=0\n",
    "order=len(str(n))\n",
    "temp=n\n",
    "while(n>0):\n",
    "    digit=n%10\n",
    "    sum+=digit**order\n",
    "    n=n//10\n",
    "if(sum==temp):\n",
    "    print(\"true\")\n",
    "else:\n",
    "    print(\"false\")"
   ]
  }
 ],
 "metadata": {
  "language_info": {
   "name": "python"
  },
  "orig_nbformat": 4
 },
 "nbformat": 4,
 "nbformat_minor": 2
}
