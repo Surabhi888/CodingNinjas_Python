{
 "cells": [
  {
   "cell_type": "code",
   "execution_count": null,
   "metadata": {},
   "outputs": [],
   "source": [
    "n = int(input())\n",
    "i = 1\n",
    "star = 1\n",
    "while i<=n:\n",
    "    j = 1\n",
    "    while j <= 2*n + 1:\n",
    "        if star == i and star == j:\n",
    "            print('*', end = \"\")\n",
    "            star = star + 1\n",
    "         \n",
    "        elif j == n + 1 or j == 2*n+2 - i:\n",
    "            print('*', end = \"\")\n",
    "        else:\n",
    "            print(0, end = \"\")\n",
    "        j = j + 1\n",
    "    print()\n",
    "    i = i + 1"
   ]
  }
 ],
 "metadata": {
  "language_info": {
   "name": "python"
  },
  "orig_nbformat": 4
 },
 "nbformat": 4,
 "nbformat_minor": 2
}
