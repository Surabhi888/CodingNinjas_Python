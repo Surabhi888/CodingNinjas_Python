{
 "cells": [
  {
   "cell_type": "code",
   "execution_count": null,
   "metadata": {},
   "outputs": [],
   "source": [
    "n=int(input())\n",
    "for i in range(1, n+1):\n",
    "    for j in range(n, 0, -1):\n",
    "        if(i == j):\n",
    "           print(\"*\", end=\"\")\n",
    "        else:\n",
    "           print(j, end=\"\")\n",
    "    print()"
   ]
  }
 ],
 "metadata": {
  "language_info": {
   "name": "python"
  },
  "orig_nbformat": 4
 },
 "nbformat": 4,
 "nbformat_minor": 2
}
