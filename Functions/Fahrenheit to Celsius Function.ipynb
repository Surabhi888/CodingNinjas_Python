{
 "cells": [
  {
   "cell_type": "code",
   "execution_count": null,
   "metadata": {},
   "outputs": [],
   "source": [
    "def printTable(start,end,step):\n",
    "    currentFahrenheitvalue=start\n",
    "    while currentFahrenheitvalue<=end:\n",
    "        celsiusvalue=(5/9)*(currentFahrenheitvalue-32)\n",
    "        print(str(currentFahrenheitvalue)+\" \"+str(int(celsiusvalue)))\n",
    "        currentFahrenheitvalue+=step\n",
    "\n",
    "pass \n",
    "\n",
    "\t   \n",
    "s = int(input())\n",
    "e = int(input())\n",
    "step = int(input())\n",
    "printTable(s,e,step)\n",
    "\n"
   ]
  }
 ],
 "metadata": {
  "language_info": {
   "name": "python"
  },
  "orig_nbformat": 4
 },
 "nbformat": 4,
 "nbformat_minor": 2
}
