{
 "cells": [
  {
   "cell_type": "code",
   "execution_count": null,
   "metadata": {},
   "outputs": [],
   "source": [
    "def checkMember(n):\n",
    "    a=0\n",
    "    b=1\n",
    "    while b<n:\n",
    "        c=a+b\n",
    "        a=b\n",
    "        b=c\n",
    "    if b==n or a==n:\n",
    "        return True\n",
    "    if b>n:\n",
    "        return False\n",
    "    pass\n",
    "\n",
    "n=int(input())\n",
    "if(checkMember(n)):\n",
    "    print(\"true\")\n",
    "else:\n",
    "    print(\"false\")"
   ]
  }
 ],
 "metadata": {
  "language_info": {
   "name": "python"
  },
  "orig_nbformat": 4
 },
 "nbformat": 4,
 "nbformat_minor": 2
}
