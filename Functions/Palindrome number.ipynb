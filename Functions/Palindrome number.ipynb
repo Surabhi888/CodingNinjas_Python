{
 "cells": [
  {
   "cell_type": "code",
   "execution_count": null,
   "metadata": {},
   "outputs": [],
   "source": [
    "def checkPalindrome(num):\n",
    "    temp=num\n",
    "    rev=0\n",
    "    while(num>0):\n",
    "        dig=num%10\n",
    "        rev=rev*10+dig\n",
    "        num=num//10\n",
    "    return rev\n",
    "pass\n",
    "\t\t\n",
    "num = int(input())\n",
    "temp=num\n",
    "isPalindrome = checkPalindrome(num)\n",
    "if(temp==isPalindrome):\n",
    "\tprint(\"true\")\n",
    "else:\n",
    "\tprint(\"false\")"
   ]
  }
 ],
 "metadata": {
  "language_info": {
   "name": "python"
  },
  "orig_nbformat": 4
 },
 "nbformat": 4,
 "nbformat_minor": 2
}
