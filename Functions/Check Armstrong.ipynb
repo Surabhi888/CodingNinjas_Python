{
 "cells": [
  {
   "cell_type": "code",
   "execution_count": null,
   "metadata": {},
   "outputs": [],
   "source": [
    "n = int(input())\n",
    "s = 0\n",
    "t = n\n",
    "a=len(str(n))\n",
    "while t > 0:\n",
    "\n",
    "   digit = t % 10\n",
    "\n",
    "   s += digit ** a\n",
    "   t //= 10\n",
    "if n == s:\n",
    "    print(\"true\")\n",
    "else:\n",
    "    print(\"false\")"
   ]
  }
 ],
 "metadata": {
  "language_info": {
   "name": "python"
  },
  "orig_nbformat": 4
 },
 "nbformat": 4,
 "nbformat_minor": 2
}
