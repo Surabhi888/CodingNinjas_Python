{
 "cells": [
  {
   "cell_type": "code",
   "execution_count": null,
   "metadata": {},
   "outputs": [],
   "source": [
    "n=int(input())\n",
    "n1=(n+1)//2\n",
    "i=1\n",
    "while i<=n1:\n",
    "    spaces = 1\n",
    "    while spaces <= n1-i:\n",
    "        print(\" \",end=\"\")\n",
    "        spaces=spaces+1\n",
    "    j=1\n",
    "    while j<=i:\n",
    "        print(\"*\",end=\"\")\n",
    "        j=j+1\n",
    "    p=i-1\n",
    "    while p >=1:\n",
    "        print(\"*\",end='')\n",
    "        p=p-1\n",
    "    \n",
    "    print()\n",
    "    i=i+1\n",
    "    \n",
    "n2 = n//2\n",
    "i = n2   \n",
    "while i>=1:\n",
    "    j = 1\n",
    "    while j<=(n2-i+1):\n",
    "        print(\" \",end=\"\")\n",
    "        j = j + 1 \n",
    "    k = 1\n",
    "    while k <=((2*i)-1):\n",
    "        print(\"*\",end=\"\")\n",
    "        k = k + 1\n",
    "    print()   \n",
    "    i = i - 1"
   ]
  }
 ],
 "metadata": {
  "language_info": {
   "name": "python"
  },
  "orig_nbformat": 4
 },
 "nbformat": 4,
 "nbformat_minor": 2
}
