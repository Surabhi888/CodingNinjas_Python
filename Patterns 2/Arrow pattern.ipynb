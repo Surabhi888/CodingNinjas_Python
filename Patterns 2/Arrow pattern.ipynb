{
 "cells": [
  {
   "cell_type": "code",
   "execution_count": null,
   "metadata": {},
   "outputs": [],
   "source": [
    "n=int(input())\n",
    "i=1\n",
    "while i<=(n+1)/2:\n",
    "    spc=1\n",
    "    while spc<=i-1:\n",
    "        print(' ',end='')\n",
    "        spc=spc+1\n",
    "    str=1\n",
    "    while str<=i:\n",
    "        print(\"* \",end='')\n",
    "        str=str+1\n",
    "    i=i+1\n",
    "    print('')\n",
    "\n",
    "while i<=n:\n",
    "    spca=n-i\n",
    "    while (spca)>0:\n",
    "        print(' ',end='')\n",
    "        spca=spca-1\n",
    "    str=n-i+1\n",
    "    while (str)>0:\n",
    "        print('* ',end='')\n",
    "        str=str-1\n",
    "    i=i+1\n",
    "    print('')\n"
   ]
  }
 ],
 "metadata": {
  "language_info": {
   "name": "python"
  },
  "orig_nbformat": 4
 },
 "nbformat": 4,
 "nbformat_minor": 2
}
