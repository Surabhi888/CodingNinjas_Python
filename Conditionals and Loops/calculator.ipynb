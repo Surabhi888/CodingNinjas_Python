{
 "cells": [
  {
   "cell_type": "code",
   "execution_count": null,
   "metadata": {},
   "outputs": [],
   "source": [
    "while True:\n",
    "    n=int(input())\n",
    "    while n:\n",
    "        if n==1:\n",
    "            a=int(input())\n",
    "            b=int(input())\n",
    "            print(a+b)\n",
    "            break\n",
    "        elif n==2:\n",
    "            a=int(input())\n",
    "            b=int(input())\n",
    "            print(a-b)\n",
    "            break\n",
    "        elif n==3:\n",
    "            a=int(input())\n",
    "            b=int(input())\n",
    "            print(a*b)\n",
    "            break\n",
    "        elif n==4:\n",
    "            a=int(input())\n",
    "            b=int(input())\n",
    "            print(a//b)\n",
    "            break\n",
    "        elif n==5:\n",
    "            a=int(input())\n",
    "            b=int(input())\n",
    "            print(a%b)\n",
    "            break\n",
    "        elif n==6:\n",
    "            exit()\n",
    "        else:\n",
    "            print(\"Invalid Operation\")\n",
    "            break"
   ]
  }
 ],
 "metadata": {
  "language_info": {
   "name": "python"
  },
  "orig_nbformat": 4
 },
 "nbformat": 4,
 "nbformat_minor": 2
}
