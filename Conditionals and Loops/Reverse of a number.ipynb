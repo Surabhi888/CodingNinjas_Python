{
 "cells": [
  {
   "cell_type": "code",
   "execution_count": null,
   "metadata": {},
   "outputs": [],
   "source": [
    "number = int(input())  \n",
    "rev_number = 0    \n",
    "while (number > 0):  \n",
    "    remainder = number % 10  \n",
    "    rev_number = (rev_number * 10) + remainder  \n",
    "    number = number // 10  \n",
    "print(rev_number)  "
   ]
  }
 ],
 "metadata": {
  "language_info": {
   "name": "python"
  },
  "orig_nbformat": 4
 },
 "nbformat": 4,
 "nbformat_minor": 2
}
