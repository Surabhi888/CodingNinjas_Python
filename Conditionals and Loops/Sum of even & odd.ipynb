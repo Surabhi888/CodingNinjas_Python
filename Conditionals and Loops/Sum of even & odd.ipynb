{
 "cells": [
  {
   "cell_type": "code",
   "execution_count": null,
   "metadata": {},
   "outputs": [],
   "source": [
    "n=int(input())\n",
    "sum_even=0\n",
    "sum_odd=0\n",
    "while(n>0):\n",
    "   if((n%10)%2==0):\n",
    "           sum_even+=n%10\n",
    "   else:\n",
    "           sum_odd+=n%10\n",
    "   n=n//(10)\n",
    "print(sum_even,sum_odd )"
   ]
  }
 ],
 "metadata": {
  "language_info": {
   "name": "python"
  },
  "orig_nbformat": 4
 },
 "nbformat": 4,
 "nbformat_minor": 2
}
