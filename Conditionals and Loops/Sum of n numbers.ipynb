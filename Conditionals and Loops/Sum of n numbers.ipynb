{
 "cells": [
  {
   "cell_type": "code",
   "execution_count": null,
   "metadata": {},
   "outputs": [],
   "source": [
    "num=int(input())\n",
    "i=1\n",
    "sum=0\n",
    "while i<=num:\n",
    "    sum+=i\n",
    "    i+=1\n",
    "print(sum)"
   ]
  }
 ],
 "metadata": {
  "language_info": {
   "name": "python"
  },
  "orig_nbformat": 4
 },
 "nbformat": 4,
 "nbformat_minor": 2
}
