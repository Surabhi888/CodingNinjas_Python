{
 "cells": [
  {
   "cell_type": "code",
   "execution_count": null,
   "metadata": {},
   "outputs": [],
   "source": [
    "n=int(input())\n",
    "for i in range(0,n,2):\n",
    "    k=1\n",
    "    for j in range(1,n+1,1):\n",
    "        print((n*i+k),end=' ')\n",
    "        # print(\"{} \".format(n*i+k),end='')\n",
    "        k=k+1\n",
    "    ref=i\n",
    "    print('')\n",
    "if n%2==0:\n",
    "    s=ref+1\n",
    "else:\n",
    "    s=ref-1\n",
    "for x in range(s,0,-2):\n",
    "    b=1\n",
    "    for y in range(1,n+1,1):\n",
    "        print(n*x+b,end=' ')\n",
    "        # print(\"{} \".format(n*x+b),end='')\n",
    "        b=b+1\n",
    "    print('')"
   ]
  }
 ],
 "metadata": {
  "language_info": {
   "name": "python"
  },
  "orig_nbformat": 4
 },
 "nbformat": 4,
 "nbformat_minor": 2
}
