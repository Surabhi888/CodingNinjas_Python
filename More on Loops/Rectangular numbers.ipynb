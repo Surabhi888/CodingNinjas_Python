{
 "cells": [
  {
   "cell_type": "code",
   "execution_count": null,
   "metadata": {},
   "outputs": [],
   "source": [
    "n =int(input())\n",
    "\n",
    "for i in range(n):\n",
    "    temp = n\n",
    "    for j in range(i):\n",
    "        print(temp,end='')\n",
    "        temp = temp -1\n",
    "    for j in range(2*n-2*i - 1):\n",
    "        print(n-i,end = '')\n",
    "    for j in range(i):\n",
    "        temp = temp+1\n",
    "        print(temp,end= '')\n",
    "    print()\n",
    "\n",
    "for i in range(n-1,0,-1):\n",
    "    temp = n\n",
    "    for j in range(i-1):\n",
    "        print(temp,end='')\n",
    "        temp = temp -1\n",
    "    for j in range(2*n-2*i+1):\n",
    "        print(n-i+1,end= '')\n",
    "    for j in range(i-1):\n",
    "        temp = temp+1\n",
    "        print(temp,end='')\n",
    "    print()"
   ]
  }
 ],
 "metadata": {
  "language_info": {
   "name": "python"
  },
  "orig_nbformat": 4
 },
 "nbformat": 4,
 "nbformat_minor": 2
}
